{
 "cells": [
  {
   "cell_type": "markdown",
   "metadata": {},
   "source": [
    "# Manhattan plot of GERP scores\n",
    "\n",
    "* Genetic analysis of the entire DNA of an organism (their genome)\n",
    "* GERP scores describe the level of conservedness of a given position in a genome\n",
    "* Negative scores indicate that this position evolves fast, positive scores indicate that it evolves slowly\n",
    "* This can tell us something about how important a certain stretch of DNA is for the organism, for example if a certain gene needs to be kept intact for the organism to be healthy, it will evolve slowly"
   ]
  },
  {
   "cell_type": "code",
   "execution_count": 2,
   "metadata": {},
   "outputs": [],
   "source": [
    "import gzip\n",
    "import pandas as pd\n",
    "from random import randint\n",
    "import matplotlib.pyplot as plt"
   ]
  },
  {
   "cell_type": "markdown",
   "metadata": {},
   "source": [
    "The dataset was downloaded from _mendel.stanford.edu/SidowLab/downloads/gerp/_ and processed with an in-house analysis pipeline (not yet publicly available). The data processing and analysis was done with the Elephant genome as reference."
   ]
  },
  {
   "cell_type": "markdown",
   "metadata": {},
   "source": [
    "Read the GERP scores into a DataFrame"
   ]
  },
  {
   "cell_type": "code",
   "execution_count": 7,
   "metadata": {},
   "outputs": [
    {
     "data": {
      "text/html": [
       "<div>\n",
       "<style scoped>\n",
       "    .dataframe tbody tr th:only-of-type {\n",
       "        vertical-align: middle;\n",
       "    }\n",
       "\n",
       "    .dataframe tbody tr th {\n",
       "        vertical-align: top;\n",
       "    }\n",
       "\n",
       "    .dataframe thead th {\n",
       "        text-align: right;\n",
       "    }\n",
       "</style>\n",
       "<table border=\"1\" class=\"dataframe\">\n",
       "  <thead>\n",
       "    <tr style=\"text-align: right;\">\n",
       "      <th></th>\n",
       "      <th>chr</th>\n",
       "      <th>position</th>\n",
       "      <th>ancestral_state</th>\n",
       "      <th>gerp_score</th>\n",
       "    </tr>\n",
       "  </thead>\n",
       "  <tbody>\n",
       "    <tr>\n",
       "      <th>0</th>\n",
       "      <td>contig5</td>\n",
       "      <td>1</td>\n",
       "      <td>N</td>\n",
       "      <td>0.0</td>\n",
       "    </tr>\n",
       "    <tr>\n",
       "      <th>1</th>\n",
       "      <td>contig5</td>\n",
       "      <td>2</td>\n",
       "      <td>N</td>\n",
       "      <td>0.0</td>\n",
       "    </tr>\n",
       "    <tr>\n",
       "      <th>2</th>\n",
       "      <td>contig5</td>\n",
       "      <td>3</td>\n",
       "      <td>N</td>\n",
       "      <td>0.0</td>\n",
       "    </tr>\n",
       "    <tr>\n",
       "      <th>3</th>\n",
       "      <td>contig5</td>\n",
       "      <td>4</td>\n",
       "      <td>N</td>\n",
       "      <td>0.0</td>\n",
       "    </tr>\n",
       "    <tr>\n",
       "      <th>4</th>\n",
       "      <td>contig5</td>\n",
       "      <td>5</td>\n",
       "      <td>N</td>\n",
       "      <td>0.0</td>\n",
       "    </tr>\n",
       "  </tbody>\n",
       "</table>\n",
       "</div>"
      ],
      "text/plain": [
       "       chr  position ancestral_state  gerp_score\n",
       "0  contig5         1               N         0.0\n",
       "1  contig5         2               N         0.0\n",
       "2  contig5         3               N         0.0\n",
       "3  contig5         4               N         0.0\n",
       "4  contig5         5               N         0.0"
      ]
     },
     "execution_count": 7,
     "metadata": {},
     "output_type": "execute_result"
    }
   ],
   "source": [
    "with gzip.open(\"datasets/own/reference_gerp.ancestral.rates.gz\") as gerp:\n",
    "    gerpDF = pd.read_table(gerp, names=[\"chr\", \"position\", \"ancestral_state\", \"gerp_score\"])\n",
    "    gerpDF['gerp_score'] = gerpDF['gerp_score'].astype(float)\n",
    "gerpDF.head()"
   ]
  },
  {
   "cell_type": "markdown",
   "metadata": {},
   "source": [
    "### Create a \"Manhattan plot\"\n",
    "* X axis shows position in the DNA sequence (chromosomes and position)\n",
    "* Y axis with some genetic statistic or data property"
   ]
  },
  {
   "cell_type": "markdown",
   "metadata": {},
   "source": [
    "Add an extra column with a running index to have control over the x labels locations when plotting"
   ]
  },
  {
   "cell_type": "code",
   "execution_count": 4,
   "metadata": {},
   "outputs": [],
   "source": [
    "gerpDF['ind'] = range(len(gerpDF)) "
   ]
  },
  {
   "cell_type": "markdown",
   "metadata": {},
   "source": [
    "Group by chromosome"
   ]
  },
  {
   "cell_type": "code",
   "execution_count": 5,
   "metadata": {},
   "outputs": [
    {
     "data": {
      "text/html": [
       "<div>\n",
       "<style scoped>\n",
       "    .dataframe tbody tr th:only-of-type {\n",
       "        vertical-align: middle;\n",
       "    }\n",
       "\n",
       "    .dataframe tbody tr th {\n",
       "        vertical-align: top;\n",
       "    }\n",
       "\n",
       "    .dataframe thead th {\n",
       "        text-align: right;\n",
       "    }\n",
       "</style>\n",
       "<table border=\"1\" class=\"dataframe\">\n",
       "  <thead>\n",
       "    <tr style=\"text-align: right;\">\n",
       "      <th></th>\n",
       "      <th>count</th>\n",
       "      <th>mean</th>\n",
       "      <th>std</th>\n",
       "      <th>min</th>\n",
       "      <th>25%</th>\n",
       "      <th>50%</th>\n",
       "      <th>75%</th>\n",
       "      <th>max</th>\n",
       "    </tr>\n",
       "    <tr>\n",
       "      <th>chr</th>\n",
       "      <th></th>\n",
       "      <th></th>\n",
       "      <th></th>\n",
       "      <th></th>\n",
       "      <th></th>\n",
       "      <th></th>\n",
       "      <th></th>\n",
       "      <th></th>\n",
       "    </tr>\n",
       "  </thead>\n",
       "  <tbody>\n",
       "    <tr>\n",
       "      <th>contig1</th>\n",
       "      <td>38616.0</td>\n",
       "      <td>0.002960</td>\n",
       "      <td>0.049011</td>\n",
       "      <td>-1.26</td>\n",
       "      <td>0.0</td>\n",
       "      <td>0.0</td>\n",
       "      <td>0.0</td>\n",
       "      <td>1.010</td>\n",
       "    </tr>\n",
       "    <tr>\n",
       "      <th>contig2</th>\n",
       "      <td>32453.0</td>\n",
       "      <td>0.002441</td>\n",
       "      <td>0.049805</td>\n",
       "      <td>-0.75</td>\n",
       "      <td>0.0</td>\n",
       "      <td>0.0</td>\n",
       "      <td>0.0</td>\n",
       "      <td>1.460</td>\n",
       "    </tr>\n",
       "    <tr>\n",
       "      <th>contig3</th>\n",
       "      <td>52344.0</td>\n",
       "      <td>0.008878</td>\n",
       "      <td>0.091860</td>\n",
       "      <td>-2.52</td>\n",
       "      <td>0.0</td>\n",
       "      <td>0.0</td>\n",
       "      <td>0.0</td>\n",
       "      <td>1.590</td>\n",
       "    </tr>\n",
       "    <tr>\n",
       "      <th>contig4</th>\n",
       "      <td>41519.0</td>\n",
       "      <td>0.005722</td>\n",
       "      <td>0.085523</td>\n",
       "      <td>-1.52</td>\n",
       "      <td>0.0</td>\n",
       "      <td>0.0</td>\n",
       "      <td>0.0</td>\n",
       "      <td>2.600</td>\n",
       "    </tr>\n",
       "    <tr>\n",
       "      <th>contig5</th>\n",
       "      <td>25406.0</td>\n",
       "      <td>0.002044</td>\n",
       "      <td>0.033381</td>\n",
       "      <td>-1.26</td>\n",
       "      <td>0.0</td>\n",
       "      <td>0.0</td>\n",
       "      <td>0.0</td>\n",
       "      <td>0.629</td>\n",
       "    </tr>\n",
       "  </tbody>\n",
       "</table>\n",
       "</div>"
      ],
      "text/plain": [
       "           count      mean       std   min  25%  50%  75%    max\n",
       "chr                                                             \n",
       "contig1  38616.0  0.002960  0.049011 -1.26  0.0  0.0  0.0  1.010\n",
       "contig2  32453.0  0.002441  0.049805 -0.75  0.0  0.0  0.0  1.460\n",
       "contig3  52344.0  0.008878  0.091860 -2.52  0.0  0.0  0.0  1.590\n",
       "contig4  41519.0  0.005722  0.085523 -1.52  0.0  0.0  0.0  2.600\n",
       "contig5  25406.0  0.002044  0.033381 -1.26  0.0  0.0  0.0  0.629"
      ]
     },
     "execution_count": 5,
     "metadata": {},
     "output_type": "execute_result"
    }
   ],
   "source": [
    "gerpDF_grouped = gerpDF.groupby(('chr'))\n",
    "gerpDF_grouped['gerp_score'].describe()"
   ]
  },
  {
   "cell_type": "code",
   "execution_count": 6,
   "metadata": {},
   "outputs": [
    {
     "data": {
      "text/plain": [
       "Text(0, 0.5, 'GERP++ score')"
      ]
     },
     "execution_count": 6,
     "metadata": {},
     "output_type": "execute_result"
    },
    {
     "data": {
      "image/png": "[encoded data removed]",
      "text/plain": [
       "<Figure size 432x288 with 1 Axes>"
      ]
     },
     "metadata": {
      "needs_background": "light"
     },
     "output_type": "display_data"
    }
   ],
   "source": [
    "fig = plt.figure()\n",
    "ax = fig.add_subplot(111)\n",
    "\n",
    "# Create a list of random RGB colors, as many colors as there are chromosomes\n",
    "colors = []\n",
    "for i in range(len(gerpDF_grouped)):\n",
    "    colors.append('#%06X' % randint(0, 0xFFFFFF))\n",
    "\n",
    "# Create a plot with the different chromosomes separately colored\n",
    "for num, (name, group) in enumerate(gerpDF_grouped):\n",
    "    group.plot(kind='scatter', x='ind', y='gerp_score', color=colors[num % len(colors)], ax=ax)\n",
    "\n",
    "# Set x labels and their position\n",
    "chromDF=gerpDF.groupby('chr')['ind'].median()\n",
    "ax.set_xticks(chromDF)\n",
    "ax.set_xticklabels(chromDF.index)\n",
    "\n",
    "# label the axes\n",
    "ax.set_xlabel('Chromosome')\n",
    "ax.set_ylabel('GERP++ score')"
   ]
  },
  {
   "cell_type": "code",
   "execution_count": null,
   "metadata": {},
   "outputs": [],
   "source": []
  }
 ],
 "metadata": {
  "kernelspec": {
   "display_name": "Python 3",
   "language": "python",
   "name": "python3"
  },
  "language_info": {
   "codemirror_mode": {
    "name": "ipython",
    "version": 3
   },
   "file_extension": ".py",
   "mimetype": "text/x-python",
   "name": "python",
   "nbconvert_exporter": "python",
   "pygments_lexer": "ipython3",
   "version": "3.6.12"
  }
 },
 "nbformat": 4,
 "nbformat_minor": 4
}
